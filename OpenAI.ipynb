{
 "cells": [
  {
   "cell_type": "code",
   "execution_count": null,
   "id": "5b119905",
   "metadata": {},
   "outputs": [],
   "source": [
    "#Created by Shlomi Kiko\n",
    "#Goal: This program sends out the ID and Description of the products to OpenAI, and asks it to return a ranking.\n",
    "#LinkedIn: https://www.linkedin.com/in/shlomikiko/"
   ]
  },
  {
   "cell_type": "code",
   "execution_count": 1,
   "id": "fc959eed-1a44-4f50-92e5-fdfd54ceaa7d",
   "metadata": {
    "editable": true,
    "slideshow": {
     "slide_type": ""
    },
    "tags": []
   },
   "outputs": [],
   "source": [
    "import pandas as pd\n",
    "import sqlalchemy as alch\n",
    "import urllib as lib\n",
    "import numpy as np"
   ]
  },
  {
   "cell_type": "code",
   "execution_count": 2,
   "id": "4b666a8a-d776-4ce7-bd00-64b20137104c",
   "metadata": {},
   "outputs": [],
   "source": [
    "server = 'localhost'\n",
    "\n",
    "sourceDatabase = 'SourceTest'\n",
    "targetDatabase = 'TargetTest'\n",
    "\n",
    "targetSchema = 'dbo'\n",
    "targetTable = targetSchema + '.' + 'OpenAITest'\n",
    "\n",
    "driver = 'com.microsoft.sqlserver.jdbc.SQLServerDriver'\n",
    "quotedSource = lib.parse.quote_plus('DRIVER={SQL SERVER NATIVE CLIENT 11.0};SERVER='+server+';DATABASE='+sourceDatabase+';Trusted_Connection=yes')\n",
    "engineSource = alch.create_engine('mssql+pyodbc:///?odbc_connect={}'.format(quotedSource), future=True)\n",
    "\n",
    "quotedTarget = lib.parse.quote_plus('DRIVER={SQL SERVER NATIVE CLIENT 11.0};SERVER='+server+';DATABASE='+targetDatabase+';Trusted_Connection=yes')\n",
    "engineTarget = alch.create_engine('mssql+pyodbc:///?odbc_connect={}'.format(quotedTarget), future=True)"
   ]
  },
  {
   "cell_type": "code",
   "execution_count": 3,
   "id": "ff6036fb-c30c-4a37-a96b-96d6fa8ec366",
   "metadata": {},
   "outputs": [],
   "source": [
    "df_offersSummary = pd.read_sql_query(\"\"\"\n",
    "    SELECT TOP (5) [OfferID]\n",
    "      ,[offerDescription]\n",
    "  FROM SourceTest.[dbo].[OffersSummary]\n",
    "\"\"\", engineSource)"
   ]
  },
  {
   "cell_type": "code",
   "execution_count": 4,
   "id": "c8f643b4-6b09-4d5c-b2e6-708dbaac7c23",
   "metadata": {},
   "outputs": [
    {
     "data": {
      "text/plain": [
       "OfferID              int64\n",
       "offerDescription    object\n",
       "dtype: object"
      ]
     },
     "execution_count": 4,
     "metadata": {},
     "output_type": "execute_result"
    }
   ],
   "source": [
    "df_offersSummary.dtypes"
   ]
  },
  {
   "cell_type": "code",
   "execution_count": 5,
   "id": "fe5a0677-c0e1-4096-863b-70cc37636f94",
   "metadata": {},
   "outputs": [],
   "source": [
    "#OpenAI\n",
    "import openai\n",
    "from openai import OpenAI\n",
    "\n",
    "client = OpenAI(api_key='')"
   ]
  },
  {
   "cell_type": "code",
   "execution_count": 7,
   "id": "81c83b67-4f75-4634-a8db-e58e47f09ca3",
   "metadata": {},
   "outputs": [
    {
     "name": "stdout",
     "output_type": "stream",
     "text": [
      "<class 'pandas.core.frame.DataFrame'>\n"
     ]
    }
   ],
   "source": [
    "headers = ['OfferID', 'Result']\n",
    "df_finalTest = pd.DataFrame(columns=headers)\n",
    "\n",
    "print(type(df_finalTest))"
   ]
  },
  {
   "cell_type": "code",
   "execution_count": 8,
   "id": "e5db3b14-2002-4c2d-882f-a3694e2afe73",
   "metadata": {},
   "outputs": [],
   "source": [
    "df_offersSummary['Result'] = np.nan"
   ]
  },
  {
   "cell_type": "code",
   "execution_count": null,
   "metadata": {},
   "outputs": [],
   "source": [
    "df_offersSummary"
   ]
  },
  {
   "cell_type": "code",
   "execution_count": 10,
   "id": "9814e1cc-0a75-4db9-8eb8-caf40331e47f",
   "metadata": {},
   "outputs": [],
   "source": [
    "headers = ['OfferID', 'Tag', 'Weight']\n",
    "df_final = pd.DataFrame(columns = headers)"
   ]
  },
  {
   "cell_type": "code",
   "execution_count": null,
   "id": "eadeb117-dbda-40f1-a36e-cf703ce165cc",
   "metadata": {},
   "outputs": [],
   "source": [
    "dictTest = {}\n",
    "\n",
    "userPrompt = 'Give me 6 summarizing weighted tags for the input text as a json with keys named \"tag\" and \"weight\". please provide the weights between 0 and 50'\n",
    "\n",
    "listFinal = []\n",
    "\n",
    "for i in df_offersSummary.iterrows():\n",
    "    offerID = df_offersSummary['OfferID'].iloc[i]\n",
    "    offerDesc = df_offersSummary['offerDescription'].iloc[i]\n",
    "    \n",
    "    messageSysContent = offerDesc\n",
    "    completion = client.chat.completions.create(\n",
    "      model=\"gpt-4-1106-preview\",\n",
    "      messages=[\n",
    "        {\"role\": \"system\", \"content\": f\"{messageSysContent}\"},\n",
    "        {\"role\": \"user\", \"content\": f\"{userPrompt}\"}\n",
    "      ]\n",
    "    )\n",
    "    result = completion.choices[0].message.content\n",
    "    \n",
    "    dictTest[offerID] = result\n",
    "\n",
    "    dictTest2 = dictTest[offerID][10:]\n",
    "    dictTest2 = dictTest2[: -6]\n",
    "    dictTest2 = dictTest2.replace(' {\"tag\": \"', '')\n",
    "    dictTest2 = dictTest2.replace('{ \"tag\": \"', '')\n",
    "    splitLines = dictTest2.split('}')\n",
    "    \n",
    "    for i in splitLines:\n",
    "        line = i\n",
    "        \n",
    "        tagIdx = line.find('\",')\n",
    "        tag = line[:tagIdx]\n",
    "        tag = tag.replace(',', '')\n",
    "        tag = tag.replace('\\n', '')\n",
    "        tag = tag.strip()\n",
    "        \n",
    "        weightIdx = line.find('\"weight\": ')\n",
    "        weight = line[weightIdx + 10:]\n",
    "        \n",
    "        print(offerID, tag, weight)\n",
    "        newRow = str(offerID) + '|' + tag + '|' + weight\n",
    "        listFinal.append(newRow)"
   ]
  },
  {
   "cell_type": "code",
   "execution_count": null,
   "id": "fb0eb865-2e72-429b-b607-f37efd41e693",
   "metadata": {},
   "outputs": [],
   "source": [
    "#print(df_final)\n",
    "print(listFinal)"
   ]
  },
  {
   "cell_type": "code",
   "execution_count": null,
   "id": "2f057103-29b1-4ad1-88e2-e58f0f74c969",
   "metadata": {},
   "outputs": [],
   "source": [
    "headers = ['OfferID', 'Tag', 'Weight']\n",
    "df_final = pd.DataFrame({}, columns=headers)"
   ]
  },
  {
   "cell_type": "code",
   "execution_count": null,
   "id": "d8691df5-9328-4302-a420-6465dfdeeeb8",
   "metadata": {},
   "outputs": [],
   "source": [
    "for i in listFinal:\n",
    "    words = i.split('|')\n",
    "    newRow = {'OfferID': words[0], 'Tag': words[1], 'Weight': words[2]}\n",
    "    newRow = pd.DataFrame([{'OfferID': words[0], 'Tag': words[1], 'Weight': words[2]}])\n",
    "    df_final = pd.concat([df_final, newRow])"
   ]
  },
  {
   "cell_type": "code",
   "execution_count": null,
   "id": "153f5569-107a-45e1-b5b5-a876e816bc82",
   "metadata": {},
   "outputs": [],
   "source": [
    "df_final = df_final.loc[df_final['Tag'] != '']"
   ]
  },
  {
   "cell_type": "code",
   "execution_count": null,
   "id": "6fdcc80b-5d08-4bf1-9392-bb7282559e55",
   "metadata": {},
   "outputs": [],
   "source": [
    "print(df_final)"
   ]
  },
  {
   "cell_type": "code",
   "execution_count": null,
   "id": "62963244-c04e-4f01-a4cc-c2e6040a6836",
   "metadata": {},
   "outputs": [],
   "source": [
    "df_final.to_sql('OpenAITest', con = engineTarget, schema = targetSchema, index = False, if_exists = 'replace')"
   ]
  },
  {
   "cell_type": "code",
   "execution_count": null,
   "id": "36db3cc4-dd41-4afd-ac09-d932e3b520e8",
   "metadata": {},
   "outputs": [],
   "source": []
  },
  {
   "cell_type": "code",
   "execution_count": null,
   "id": "36a468af-f7e6-4501-8377-94e2397e66de",
   "metadata": {},
   "outputs": [],
   "source": []
  }
 ],
 "metadata": {
  "kernelspec": {
   "display_name": "Python 3 (ipykernel)",
   "language": "python",
   "name": "python3"
  },
  "language_info": {
   "codemirror_mode": {
    "name": "ipython",
    "version": 3
   },
   "file_extension": ".py",
   "mimetype": "text/x-python",
   "name": "python",
   "nbconvert_exporter": "python",
   "pygments_lexer": "ipython3",
   "version": "3.12.0"
  }
 },
 "nbformat": 4,
 "nbformat_minor": 5
}
