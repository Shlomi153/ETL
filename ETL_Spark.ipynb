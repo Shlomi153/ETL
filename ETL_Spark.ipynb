{
 "cells": [
  {
   "cell_type": "code",
   "execution_count": null,
   "id": "87b4e801-7bd7-4879-bc50-e7ea2414eea4",
   "metadata": {},
   "outputs": [],
   "source": [
    "#Author: Shlomi Kiko\n",
    "#Topic: Basic ETL example using the Python library PySpark\n",
    "#Linkedin: https://www.linkedin.com/in/shlomikiko/"
   ]
  },
  {
   "cell_type": "code",
   "execution_count": 29,
   "id": "6937ef46-a44c-41f4-8048-9f3a0692c852",
   "metadata": {},
   "outputs": [],
   "source": [
    "#Import libraries\n",
    "from pyspark.sql import SparkSession\n",
    "from pyspark.sql.functions import when\n",
    "import gc\n",
    "import os\n",
    "import sys"
   ]
  },
  {
   "cell_type": "code",
   "execution_count": 30,
   "id": "4ccf4833-3d9e-42cb-aa9e-dc450c8e83e2",
   "metadata": {},
   "outputs": [],
   "source": [
    "#Define operating system variables\n",
    "os.environ['PYSPARK_PYTHON'] = sys.executable\n",
    "os.environ['PYSPARK_DRIVER_PYTHON'] = sys.executable"
   ]
  },
  {
   "cell_type": "code",
   "execution_count": 31,
   "id": "05156684-6f97-4773-a4c7-e578ff100edd",
   "metadata": {},
   "outputs": [],
   "source": [
    "#Create the builder for Spark\n",
    "spark = SparkSession.builder.appName('ETL_Spark').getOrCreate()"
   ]
  },
  {
   "cell_type": "code",
   "execution_count": 32,
   "id": "9c60f79a-27c1-4d03-9824-81a86db71206",
   "metadata": {},
   "outputs": [],
   "source": [
    "#Define connections\n",
    "database = 'BikeStores'\n",
    "schema = 'dbo'\n",
    "table1 = schema + '.' + 'Test'\n",
    "\n",
    "driver = 'com.microsoft.sqlserver.jdbc.SQLServerDriver'\n",
    "connection = f'jdbc:sqlserver://localhost:1433;databaseName={database};integratedSecurity=true;trustServerCertificate=true'\n",
    "#string  connectionURL = \"jdbc:sqlserver://localhost:10020;databaseName=mydatabase;user=me;password=random_password;encrypt=true;trustServerCertificate=true\";"
   ]
  },
  {
   "cell_type": "code",
   "execution_count": 33,
   "id": "f0564126-8ea7-484a-ab75-55628a260b55",
   "metadata": {},
   "outputs": [],
   "source": [
    "#Read from Source Database\n",
    "df_test = spark.read \\\n",
    "        .format('jdbc') \\\n",
    "        .option('driver', driver) \\\n",
    "        .option('url', connection) \\\n",
    "        .option('dbtable', table1) \\\n",
    "        .load()"
   ]
  },
  {
   "cell_type": "code",
   "execution_count": 34,
   "id": "94f6b163-68ba-4828-b13e-917703e1c20b",
   "metadata": {},
   "outputs": [
    {
     "name": "stdout",
     "output_type": "stream",
     "text": [
      "root\n",
      " |-- brand_id: integer (nullable = true)\n",
      " |-- brand_name: string (nullable = true)\n",
      "\n"
     ]
    }
   ],
   "source": [
    "#Check the data types\n",
    "df_test.printSchema()"
   ]
  },
  {
   "cell_type": "code",
   "execution_count": 35,
   "id": "ca5bd058-17fb-4eeb-8bae-36686a8e55ef",
   "metadata": {},
   "outputs": [
    {
     "name": "stdout",
     "output_type": "stream",
     "text": [
      "+--------+------------+\n",
      "|brand_id|  brand_name|\n",
      "+--------+------------+\n",
      "|       1|     Electra|\n",
      "|       2|        Haro|\n",
      "|       3|      Heller|\n",
      "|       4| Pure Cycles|\n",
      "|       5|     Ritchey|\n",
      "|       6|     Strider|\n",
      "|       7|Sun Bicycles|\n",
      "|       8|       Surly|\n",
      "|       9|        Trek|\n",
      "|      10|      Shlomi|\n",
      "+--------+------------+\n",
      "\n"
     ]
    }
   ],
   "source": [
    "#Show sample data\n",
    "df_test.show()"
   ]
  },
  {
   "cell_type": "code",
   "execution_count": 36,
   "id": "362d76e5-552e-4df2-a19f-bbd8dce6650d",
   "metadata": {},
   "outputs": [],
   "source": [
    "#Create temp view for more flexibility\n",
    "df_test.createOrReplaceTempView('TestView')"
   ]
  },
  {
   "cell_type": "code",
   "execution_count": 37,
   "id": "838ccfc6-872a-4790-9091-f6fac8170eaf",
   "metadata": {},
   "outputs": [],
   "source": [
    "#Pick what data to have in the view\n",
    "testView = spark.sql(\"\"\"SELECT DISTINCT * FROM TestView\"\"\")"
   ]
  },
  {
   "cell_type": "code",
   "execution_count": 38,
   "id": "26fa4209-c1ea-4948-9562-292f9b79dc97",
   "metadata": {},
   "outputs": [
    {
     "name": "stdout",
     "output_type": "stream",
     "text": [
      "+--------+------------+\n",
      "|brand_id|  brand_name|\n",
      "+--------+------------+\n",
      "|       5|     Ritchey|\n",
      "|       1|     Electra|\n",
      "|       9|        Trek|\n",
      "|       7|Sun Bicycles|\n",
      "|       3|      Heller|\n",
      "|      10|      Shlomi|\n",
      "|       2|        Haro|\n",
      "|       8|       Surly|\n",
      "|       4| Pure Cycles|\n",
      "|       6|     Strider|\n",
      "+--------+------------+\n",
      "\n"
     ]
    }
   ],
   "source": [
    "#Show sample data from view\n",
    "testView.show()"
   ]
  },
  {
   "cell_type": "code",
   "execution_count": 43,
   "id": "5f2715ef-81a4-4645-a892-73ec8810a1fa",
   "metadata": {},
   "outputs": [],
   "source": [
    "#Write to final destination\n",
    "testView.write \\\n",
    "        .format('jdbc') \\\n",
    "        .mode('overwrite') \\\n",
    "        .option('truncate', 'true') \\\n",
    "        .option('url', connection) \\\n",
    "        .option('dbtable', table1) \\\n",
    "        .save()"
   ]
  },
  {
   "cell_type": "code",
   "execution_count": 44,
   "id": "725e1a47-c0fd-467e-b7e2-9ac086965383",
   "metadata": {},
   "outputs": [],
   "source": [
    "#Delete objects\n",
    "del df_test, testView"
   ]
  },
  {
   "cell_type": "code",
   "execution_count": 45,
   "id": "78e05293-399e-4bed-8935-aec43d20226a",
   "metadata": {},
   "outputs": [
    {
     "data": {
      "text/plain": [
       "1992"
      ]
     },
     "execution_count": 45,
     "metadata": {},
     "output_type": "execute_result"
    }
   ],
   "source": [
    "#Garbage collector\n",
    "gc.collect()"
   ]
  },
  {
   "cell_type": "code",
   "execution_count": null,
   "id": "7fb4bb2e-159c-4c38-808a-26ec57999de0",
   "metadata": {},
   "outputs": [],
   "source": []
  },
  {
   "cell_type": "code",
   "execution_count": null,
   "id": "5d6f9fc3-a585-4e94-8de7-c71ca58a49b7",
   "metadata": {},
   "outputs": [],
   "source": []
  },
  {
   "cell_type": "code",
   "execution_count": null,
   "id": "6b851345-5e2a-471c-a6ab-f385f95325e9",
   "metadata": {},
   "outputs": [],
   "source": []
  }
 ],
 "metadata": {
  "kernelspec": {
   "display_name": "Python 3 (ipykernel)",
   "language": "python",
   "name": "python3"
  },
  "language_info": {
   "codemirror_mode": {
    "name": "ipython",
    "version": 3
   },
   "file_extension": ".py",
   "mimetype": "text/x-python",
   "name": "python",
   "nbconvert_exporter": "python",
   "pygments_lexer": "ipython3",
   "version": "3.10.7"
  }
 },
 "nbformat": 4,
 "nbformat_minor": 5
}
