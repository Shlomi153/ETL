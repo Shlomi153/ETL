{
 "cells": [
  {
   "cell_type": "code",
   "execution_count": 1,
   "id": "51ee2a2e-2b68-44d4-a501-b0a159235f9d",
   "metadata": {},
   "outputs": [],
   "source": [
    "#Import libraries\n",
    "import pandas as pd\n",
    "import gc\n",
    "import sqlalchemy as alch\n",
    "import urllib as lib"
   ]
  },
  {
   "cell_type": "code",
   "execution_count": 2,
   "id": "6cd3f71a-f04f-4fc3-b602-4c5c38ec9736",
   "metadata": {},
   "outputs": [],
   "source": [
    "#Define connections\n",
    "server = 'localhost'\n",
    "targetDatabase = 'DWTest'\n",
    "targetSchema = 'Warehouse'\n",
    "targetTable = 'TokyoMedals'\n",
    "\n",
    "driver = 'com.microsoft.sqlserver.jdbc.SQLServerDriver'\n",
    "quotedTarget = lib.parse.quote_plus('DRIVER={SQL SERVER NATIVE CLIENT 11.0};SERVER='+server+';DATABASE='+targetDatabase+';Trusted_Connection=yes')\n",
    "engineTarget = alch.create_engine('mssql+pyodbc:///?odbc_connect={}'.format(quotedTarget))"
   ]
  },
  {
   "cell_type": "code",
   "execution_count": 3,
   "id": "468e9100-b526-4407-a776-98e0ba5db975",
   "metadata": {},
   "outputs": [],
   "source": [
    "df_tokyoMedals = pd.read_csv(r\"D:\\Python Projects\\Python ETL\\Olympics\\Tokyo Medals 2021.csv\")"
   ]
  },
  {
   "cell_type": "code",
   "execution_count": 4,
   "id": "3b5c58e9-88b4-4531-9329-4f2629fe739a",
   "metadata": {},
   "outputs": [
    {
     "data": {
      "text/html": [
       "<div>\n",
       "<style scoped>\n",
       "    .dataframe tbody tr th:only-of-type {\n",
       "        vertical-align: middle;\n",
       "    }\n",
       "\n",
       "    .dataframe tbody tr th {\n",
       "        vertical-align: top;\n",
       "    }\n",
       "\n",
       "    .dataframe thead th {\n",
       "        text-align: right;\n",
       "    }\n",
       "</style>\n",
       "<table border=\"1\" class=\"dataframe\">\n",
       "  <thead>\n",
       "    <tr style=\"text-align: right;\">\n",
       "      <th></th>\n",
       "      <th>Country</th>\n",
       "      <th>Gold Medal</th>\n",
       "      <th>Silver Medal</th>\n",
       "      <th>Bronze Medal</th>\n",
       "      <th>Total</th>\n",
       "      <th>Rank By Total</th>\n",
       "    </tr>\n",
       "  </thead>\n",
       "  <tbody>\n",
       "    <tr>\n",
       "      <th>0</th>\n",
       "      <td>United States of America</td>\n",
       "      <td>39</td>\n",
       "      <td>41</td>\n",
       "      <td>33</td>\n",
       "      <td>113</td>\n",
       "      <td>1</td>\n",
       "    </tr>\n",
       "    <tr>\n",
       "      <th>1</th>\n",
       "      <td>People's Republic of China</td>\n",
       "      <td>38</td>\n",
       "      <td>32</td>\n",
       "      <td>18</td>\n",
       "      <td>88</td>\n",
       "      <td>2</td>\n",
       "    </tr>\n",
       "    <tr>\n",
       "      <th>2</th>\n",
       "      <td>Japan</td>\n",
       "      <td>27</td>\n",
       "      <td>14</td>\n",
       "      <td>17</td>\n",
       "      <td>58</td>\n",
       "      <td>5</td>\n",
       "    </tr>\n",
       "    <tr>\n",
       "      <th>3</th>\n",
       "      <td>Great Britain</td>\n",
       "      <td>22</td>\n",
       "      <td>21</td>\n",
       "      <td>22</td>\n",
       "      <td>65</td>\n",
       "      <td>4</td>\n",
       "    </tr>\n",
       "    <tr>\n",
       "      <th>4</th>\n",
       "      <td>ROC</td>\n",
       "      <td>20</td>\n",
       "      <td>28</td>\n",
       "      <td>23</td>\n",
       "      <td>71</td>\n",
       "      <td>3</td>\n",
       "    </tr>\n",
       "  </tbody>\n",
       "</table>\n",
       "</div>"
      ],
      "text/plain": [
       "                      Country  Gold Medal  Silver Medal  Bronze Medal  Total  \\\n",
       "0    United States of America          39            41            33    113   \n",
       "1  People's Republic of China          38            32            18     88   \n",
       "2                       Japan          27            14            17     58   \n",
       "3               Great Britain          22            21            22     65   \n",
       "4                         ROC          20            28            23     71   \n",
       "\n",
       "   Rank By Total  \n",
       "0              1  \n",
       "1              2  \n",
       "2              5  \n",
       "3              4  \n",
       "4              3  "
      ]
     },
     "execution_count": 4,
     "metadata": {},
     "output_type": "execute_result"
    }
   ],
   "source": [
    "df_tokyoMedals.head()"
   ]
  },
  {
   "cell_type": "code",
   "execution_count": 5,
   "id": "00c4d35f-f9f6-492c-8e61-0cbdacaad896",
   "metadata": {},
   "outputs": [
    {
     "data": {
      "text/plain": [
       "Country          object\n",
       "Gold Medal        int64\n",
       "Silver Medal      int64\n",
       "Bronze Medal      int64\n",
       "Total             int64\n",
       "Rank By Total     int64\n",
       "dtype: object"
      ]
     },
     "execution_count": 5,
     "metadata": {},
     "output_type": "execute_result"
    }
   ],
   "source": [
    "df_tokyoMedals.dtypes"
   ]
  },
  {
   "cell_type": "code",
   "execution_count": 6,
   "id": "54e6a17e-2ca6-427d-a3ff-9704546850c4",
   "metadata": {},
   "outputs": [],
   "source": [
    "df_tokyoMedalsUS = df_tokyoMedals.loc[df_tokyoMedals['Country'] == 'United States of America']"
   ]
  },
  {
   "cell_type": "code",
   "execution_count": 7,
   "id": "0b7e6d37-58eb-4c3a-885d-195b8b45a29c",
   "metadata": {},
   "outputs": [
    {
     "data": {
      "text/html": [
       "<div>\n",
       "<style scoped>\n",
       "    .dataframe tbody tr th:only-of-type {\n",
       "        vertical-align: middle;\n",
       "    }\n",
       "\n",
       "    .dataframe tbody tr th {\n",
       "        vertical-align: top;\n",
       "    }\n",
       "\n",
       "    .dataframe thead th {\n",
       "        text-align: right;\n",
       "    }\n",
       "</style>\n",
       "<table border=\"1\" class=\"dataframe\">\n",
       "  <thead>\n",
       "    <tr style=\"text-align: right;\">\n",
       "      <th></th>\n",
       "      <th>Country</th>\n",
       "      <th>Gold Medal</th>\n",
       "      <th>Silver Medal</th>\n",
       "      <th>Bronze Medal</th>\n",
       "      <th>Total</th>\n",
       "      <th>Rank By Total</th>\n",
       "    </tr>\n",
       "  </thead>\n",
       "  <tbody>\n",
       "    <tr>\n",
       "      <th>0</th>\n",
       "      <td>United States of America</td>\n",
       "      <td>39</td>\n",
       "      <td>41</td>\n",
       "      <td>33</td>\n",
       "      <td>113</td>\n",
       "      <td>1</td>\n",
       "    </tr>\n",
       "  </tbody>\n",
       "</table>\n",
       "</div>"
      ],
      "text/plain": [
       "                    Country  Gold Medal  Silver Medal  Bronze Medal  Total  \\\n",
       "0  United States of America          39            41            33    113   \n",
       "\n",
       "   Rank By Total  \n",
       "0              1  "
      ]
     },
     "execution_count": 7,
     "metadata": {},
     "output_type": "execute_result"
    }
   ],
   "source": [
    "df_tokyoMedalsUS.head()"
   ]
  },
  {
   "cell_type": "code",
   "execution_count": 8,
   "id": "0bb527f8-ad08-45d8-9e8d-c4d9eab96df0",
   "metadata": {},
   "outputs": [],
   "source": [
    "df_tokyoMedalsTop3 = df_tokyoMedals.nlargest(3, columns='Gold Medal')"
   ]
  },
  {
   "cell_type": "code",
   "execution_count": 9,
   "id": "07685c03-a92a-4b45-83c4-9b40c10d191c",
   "metadata": {},
   "outputs": [
    {
     "data": {
      "text/html": [
       "<div>\n",
       "<style scoped>\n",
       "    .dataframe tbody tr th:only-of-type {\n",
       "        vertical-align: middle;\n",
       "    }\n",
       "\n",
       "    .dataframe tbody tr th {\n",
       "        vertical-align: top;\n",
       "    }\n",
       "\n",
       "    .dataframe thead th {\n",
       "        text-align: right;\n",
       "    }\n",
       "</style>\n",
       "<table border=\"1\" class=\"dataframe\">\n",
       "  <thead>\n",
       "    <tr style=\"text-align: right;\">\n",
       "      <th></th>\n",
       "      <th>Country</th>\n",
       "      <th>Gold Medal</th>\n",
       "      <th>Silver Medal</th>\n",
       "      <th>Bronze Medal</th>\n",
       "      <th>Total</th>\n",
       "      <th>Rank By Total</th>\n",
       "    </tr>\n",
       "  </thead>\n",
       "  <tbody>\n",
       "    <tr>\n",
       "      <th>0</th>\n",
       "      <td>United States of America</td>\n",
       "      <td>39</td>\n",
       "      <td>41</td>\n",
       "      <td>33</td>\n",
       "      <td>113</td>\n",
       "      <td>1</td>\n",
       "    </tr>\n",
       "    <tr>\n",
       "      <th>1</th>\n",
       "      <td>People's Republic of China</td>\n",
       "      <td>38</td>\n",
       "      <td>32</td>\n",
       "      <td>18</td>\n",
       "      <td>88</td>\n",
       "      <td>2</td>\n",
       "    </tr>\n",
       "    <tr>\n",
       "      <th>2</th>\n",
       "      <td>Japan</td>\n",
       "      <td>27</td>\n",
       "      <td>14</td>\n",
       "      <td>17</td>\n",
       "      <td>58</td>\n",
       "      <td>5</td>\n",
       "    </tr>\n",
       "  </tbody>\n",
       "</table>\n",
       "</div>"
      ],
      "text/plain": [
       "                      Country  Gold Medal  Silver Medal  Bronze Medal  Total  \\\n",
       "0    United States of America          39            41            33    113   \n",
       "1  People's Republic of China          38            32            18     88   \n",
       "2                       Japan          27            14            17     58   \n",
       "\n",
       "   Rank By Total  \n",
       "0              1  \n",
       "1              2  \n",
       "2              5  "
      ]
     },
     "execution_count": 9,
     "metadata": {},
     "output_type": "execute_result"
    }
   ],
   "source": [
    "df_tokyoMedalsTop3.head()"
   ]
  },
  {
   "cell_type": "code",
   "execution_count": 10,
   "id": "cc4df16b-672e-4c47-b083-27cb2155352f",
   "metadata": {},
   "outputs": [
    {
     "data": {
      "text/plain": [
       "93"
      ]
     },
     "execution_count": 10,
     "metadata": {},
     "output_type": "execute_result"
    }
   ],
   "source": [
    "df_tokyoMedals.to_sql('TokyoMedals', con=engineTarget, schema=targetSchema, index=False, if_exists='replace')"
   ]
  },
  {
   "cell_type": "code",
   "execution_count": 11,
   "id": "c4261530-8479-4870-b715-9c13124bf28b",
   "metadata": {},
   "outputs": [],
   "source": [
    "del df_tokyoMedalsTop3, df_tokyoMedalsUS, df_tokyoMedals"
   ]
  },
  {
   "cell_type": "code",
   "execution_count": 12,
   "id": "43d0ec98-6920-44c7-b62d-74e53e0df523",
   "metadata": {},
   "outputs": [
    {
     "data": {
      "text/plain": [
       "107"
      ]
     },
     "execution_count": 12,
     "metadata": {},
     "output_type": "execute_result"
    }
   ],
   "source": [
    "gc.collect()"
   ]
  },
  {
   "cell_type": "code",
   "execution_count": null,
   "id": "9c83baa8-11d0-482f-bf37-d75a2b1ec78b",
   "metadata": {},
   "outputs": [],
   "source": []
  }
 ],
 "metadata": {
  "kernelspec": {
   "display_name": "Python 3 (ipykernel)",
   "language": "python",
   "name": "python3"
  },
  "language_info": {
   "codemirror_mode": {
    "name": "ipython",
    "version": 3
   },
   "file_extension": ".py",
   "mimetype": "text/x-python",
   "name": "python",
   "nbconvert_exporter": "python",
   "pygments_lexer": "ipython3",
   "version": "3.10.7"
  }
 },
 "nbformat": 4,
 "nbformat_minor": 5
}
